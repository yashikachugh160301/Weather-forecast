{
  "nbformat": 4,
  "nbformat_minor": 0,
  "metadata": {
    "colab": {
      "name": "Weather_forecast.ipynb",
      "provenance": []
    },
    "kernelspec": {
      "name": "python3",
      "display_name": "Python 3"
    }
  },
  "cells": [
    {
      "cell_type": "markdown",
      "metadata": {
        "id": "ooWMizeXetvA"
      },
      "source": [
        "# **Weather Forecasting and Shift in Seasons using EDA**\n",
        "\n",
        "---\n",
        "This notebook is divided into 2 major sections: EDA and Prediction\n"
      ]
    },
    {
      "cell_type": "markdown",
      "metadata": {
        "id": "4grKHF-YgKAT"
      },
      "source": [
        "Importing essential Libraries"
      ]
    },
    {
      "cell_type": "code",
      "metadata": {
        "id": "V5dyLwc-gT97"
      },
      "source": [
        "import pandas as pd\n",
        "import numpy as np\n",
        "import matplotlib.pyplot as plt\n",
        "from sklearn.ensemble import RandomForestRegressor\n",
        "from sklearn.model_selection import train_test_split \n",
        "from sklearn.metrics import r2_score \n",
        "from sklearn.metrics import mean_squared_error\n",
        "import seaborn as sns\n"
      ],
      "execution_count": null,
      "outputs": []
    },
    {
      "cell_type": "markdown",
      "metadata": {
        "id": "HH_ctpcrgn62"
      },
      "source": [
        "Reading the train and test data"
      ]
    },
    {
      "cell_type": "code",
      "metadata": {
        "colab": {
          "base_uri": "https://localhost:8080/",
          "height": 204
        },
        "id": "cFRcN4QYjUz0",
        "outputId": "5f7a16df-7f1d-4d53-e947-0960ec642923"
      },
      "source": [
        "#Training Data\n",
        "data=pd.read_csv('/content/drive/MyDrive/DATA.csv')\n",
        "data.shape\n",
        "\n",
        "#Viewing the training data\n",
        "data.head()"
      ],
      "execution_count": null,
      "outputs": [
        {
          "output_type": "execute_result",
          "data": {
            "text/html": [
              "<div>\n",
              "<style scoped>\n",
              "    .dataframe tbody tr th:only-of-type {\n",
              "        vertical-align: middle;\n",
              "    }\n",
              "\n",
              "    .dataframe tbody tr th {\n",
              "        vertical-align: top;\n",
              "    }\n",
              "\n",
              "    .dataframe thead th {\n",
              "        text-align: right;\n",
              "    }\n",
              "</style>\n",
              "<table border=\"1\" class=\"dataframe\">\n",
              "  <thead>\n",
              "    <tr style=\"text-align: right;\">\n",
              "      <th></th>\n",
              "      <th>Month</th>\n",
              "      <th>Date</th>\n",
              "      <th>Year</th>\n",
              "      <th>Temperature</th>\n",
              "    </tr>\n",
              "  </thead>\n",
              "  <tbody>\n",
              "    <tr>\n",
              "      <th>0</th>\n",
              "      <td>1</td>\n",
              "      <td>1</td>\n",
              "      <td>1995</td>\n",
              "      <td>50.7</td>\n",
              "    </tr>\n",
              "    <tr>\n",
              "      <th>1</th>\n",
              "      <td>1</td>\n",
              "      <td>2</td>\n",
              "      <td>1995</td>\n",
              "      <td>52.1</td>\n",
              "    </tr>\n",
              "    <tr>\n",
              "      <th>2</th>\n",
              "      <td>1</td>\n",
              "      <td>3</td>\n",
              "      <td>1995</td>\n",
              "      <td>53.8</td>\n",
              "    </tr>\n",
              "    <tr>\n",
              "      <th>3</th>\n",
              "      <td>1</td>\n",
              "      <td>4</td>\n",
              "      <td>1995</td>\n",
              "      <td>53.7</td>\n",
              "    </tr>\n",
              "    <tr>\n",
              "      <th>4</th>\n",
              "      <td>1</td>\n",
              "      <td>5</td>\n",
              "      <td>1995</td>\n",
              "      <td>54.5</td>\n",
              "    </tr>\n",
              "  </tbody>\n",
              "</table>\n",
              "</div>"
            ],
            "text/plain": [
              "   Month  Date  Year  Temperature\n",
              "0      1     1  1995         50.7\n",
              "1      1     2  1995         52.1\n",
              "2      1     3  1995         53.8\n",
              "3      1     4  1995         53.7\n",
              "4      1     5  1995         54.5"
            ]
          },
          "metadata": {
            "tags": []
          },
          "execution_count": 4
        }
      ]
    },
    {
      "cell_type": "markdown",
      "metadata": {
        "id": "1pXcTkPkkNTH"
      },
      "source": [
        "The training dataset consists of Temperature in Delhi in Farenheit from 1st January 1995 to 12th May 2020. The 4 columns are Date, Month, Year and Temperature. The dependent variable is Temperature. "
      ]
    },
    {
      "cell_type": "code",
      "metadata": {
        "colab": {
          "base_uri": "https://localhost:8080/",
          "height": 204
        },
        "id": "mTM_xANWj0_Q",
        "outputId": "e5aaef58-122e-4910-98c5-f9d6166d948c"
      },
      "source": [
        "#Test Data\n",
        "test=pd.read_csv('/content/drive/MyDrive/Book1.csv')\n",
        "test.shape\n",
        "\n",
        "#Viewing the test data\n",
        "test.head()"
      ],
      "execution_count": null,
      "outputs": [
        {
          "output_type": "execute_result",
          "data": {
            "text/html": [
              "<div>\n",
              "<style scoped>\n",
              "    .dataframe tbody tr th:only-of-type {\n",
              "        vertical-align: middle;\n",
              "    }\n",
              "\n",
              "    .dataframe tbody tr th {\n",
              "        vertical-align: top;\n",
              "    }\n",
              "\n",
              "    .dataframe thead th {\n",
              "        text-align: right;\n",
              "    }\n",
              "</style>\n",
              "<table border=\"1\" class=\"dataframe\">\n",
              "  <thead>\n",
              "    <tr style=\"text-align: right;\">\n",
              "      <th></th>\n",
              "      <th>Month</th>\n",
              "      <th>Date</th>\n",
              "      <th>Year</th>\n",
              "    </tr>\n",
              "  </thead>\n",
              "  <tbody>\n",
              "    <tr>\n",
              "      <th>0</th>\n",
              "      <td>1</td>\n",
              "      <td>1</td>\n",
              "      <td>2020</td>\n",
              "    </tr>\n",
              "    <tr>\n",
              "      <th>1</th>\n",
              "      <td>1</td>\n",
              "      <td>2</td>\n",
              "      <td>2020</td>\n",
              "    </tr>\n",
              "    <tr>\n",
              "      <th>2</th>\n",
              "      <td>1</td>\n",
              "      <td>3</td>\n",
              "      <td>2020</td>\n",
              "    </tr>\n",
              "    <tr>\n",
              "      <th>3</th>\n",
              "      <td>1</td>\n",
              "      <td>4</td>\n",
              "      <td>2020</td>\n",
              "    </tr>\n",
              "    <tr>\n",
              "      <th>4</th>\n",
              "      <td>1</td>\n",
              "      <td>5</td>\n",
              "      <td>2020</td>\n",
              "    </tr>\n",
              "  </tbody>\n",
              "</table>\n",
              "</div>"
            ],
            "text/plain": [
              "   Month  Date  Year\n",
              "0      1     1  2020\n",
              "1      1     2  2020\n",
              "2      1     3  2020\n",
              "3      1     4  2020\n",
              "4      1     5  2020"
            ]
          },
          "metadata": {
            "tags": []
          },
          "execution_count": 5
        }
      ]
    },
    {
      "cell_type": "markdown",
      "metadata": {
        "id": "Au7bzHu3ka1I"
      },
      "source": [
        "The test datset has dates from 1st January 2020 to 31st December 2020. The three columns are Date, Month and Year. "
      ]
    },
    {
      "cell_type": "markdown",
      "metadata": {
        "id": "WkTP8GhSla_k"
      },
      "source": [
        "For a better understanding, the temperature is converted to Celsius using the following function:"
      ]
    },
    {
      "cell_type": "code",
      "metadata": {
        "colab": {
          "base_uri": "https://localhost:8080/",
          "height": 204
        },
        "id": "tSuqgFgslalD",
        "outputId": "41ab382e-e9c4-4bb3-a0c0-30a4701766dd"
      },
      "source": [
        "def fahr_to_celsius(temp_fahr):\n",
        "    \"\"\"Convert Fahrenheit to Celsius\n",
        "    \n",
        "    Return Celsius conversion of input\"\"\"\n",
        "    temp_celsius = (temp_fahr - 32) * 5 / 9\n",
        "    return temp_celsius\n",
        "\n",
        "#Converting the temperature \n",
        "data[\"temperature_C\"] = fahr_to_celsius(data[\"Temperature\"])\n",
        "\n",
        "#rounding off the temperatures to 1 decimal point\n",
        "data[\"temperature_C\"]=round(data[\"temperature_C\"],1)\n",
        "\n",
        "data.head()"
      ],
      "execution_count": null,
      "outputs": [
        {
          "output_type": "execute_result",
          "data": {
            "text/html": [
              "<div>\n",
              "<style scoped>\n",
              "    .dataframe tbody tr th:only-of-type {\n",
              "        vertical-align: middle;\n",
              "    }\n",
              "\n",
              "    .dataframe tbody tr th {\n",
              "        vertical-align: top;\n",
              "    }\n",
              "\n",
              "    .dataframe thead th {\n",
              "        text-align: right;\n",
              "    }\n",
              "</style>\n",
              "<table border=\"1\" class=\"dataframe\">\n",
              "  <thead>\n",
              "    <tr style=\"text-align: right;\">\n",
              "      <th></th>\n",
              "      <th>Month</th>\n",
              "      <th>Date</th>\n",
              "      <th>Year</th>\n",
              "      <th>Temperature</th>\n",
              "      <th>temperature_C</th>\n",
              "    </tr>\n",
              "  </thead>\n",
              "  <tbody>\n",
              "    <tr>\n",
              "      <th>0</th>\n",
              "      <td>1</td>\n",
              "      <td>1</td>\n",
              "      <td>1995</td>\n",
              "      <td>50.7</td>\n",
              "      <td>10.4</td>\n",
              "    </tr>\n",
              "    <tr>\n",
              "      <th>1</th>\n",
              "      <td>1</td>\n",
              "      <td>2</td>\n",
              "      <td>1995</td>\n",
              "      <td>52.1</td>\n",
              "      <td>11.2</td>\n",
              "    </tr>\n",
              "    <tr>\n",
              "      <th>2</th>\n",
              "      <td>1</td>\n",
              "      <td>3</td>\n",
              "      <td>1995</td>\n",
              "      <td>53.8</td>\n",
              "      <td>12.1</td>\n",
              "    </tr>\n",
              "    <tr>\n",
              "      <th>3</th>\n",
              "      <td>1</td>\n",
              "      <td>4</td>\n",
              "      <td>1995</td>\n",
              "      <td>53.7</td>\n",
              "      <td>12.1</td>\n",
              "    </tr>\n",
              "    <tr>\n",
              "      <th>4</th>\n",
              "      <td>1</td>\n",
              "      <td>5</td>\n",
              "      <td>1995</td>\n",
              "      <td>54.5</td>\n",
              "      <td>12.5</td>\n",
              "    </tr>\n",
              "  </tbody>\n",
              "</table>\n",
              "</div>"
            ],
            "text/plain": [
              "   Month  Date  Year  Temperature  temperature_C\n",
              "0      1     1  1995         50.7           10.4\n",
              "1      1     2  1995         52.1           11.2\n",
              "2      1     3  1995         53.8           12.1\n",
              "3      1     4  1995         53.7           12.1\n",
              "4      1     5  1995         54.5           12.5"
            ]
          },
          "metadata": {
            "tags": []
          },
          "execution_count": 6
        }
      ]
    },
    {
      "cell_type": "markdown",
      "metadata": {
        "id": "XnipOhONl4YN"
      },
      "source": [
        "On scanning the data, we find some ambiguous values such as -99 F or 72.8 degree Celsius. As we know, it is not possible to have such a temperature, we consider this as missing data and handle it similarly."
      ]
    },
    {
      "cell_type": "code",
      "metadata": {
        "id": "fF2UiQRzl1Qq"
      },
      "source": [
        "#Replacing the 72.8 value with NaN\n",
        "data=data.replace(to_replace=-72.8,value=np.nan)\n",
        "\n",
        "#Using Forward Fill Method to handle missing data\n",
        "data=data.fillna(method='ffill') "
      ],
      "execution_count": null,
      "outputs": []
    },
    {
      "cell_type": "markdown",
      "metadata": {
        "id": "VWumD0y5m5Jq"
      },
      "source": [
        "We wish to have index in DD-MM-YYYY format so that the dataset can be comprehended easily. For this we create a 'Day' parameter and set it as index."
      ]
    },
    {
      "cell_type": "code",
      "metadata": {
        "colab": {
          "base_uri": "https://localhost:8080/",
          "height": 235
        },
        "id": "0kwnMjqwmiql",
        "outputId": "9e899606-2d56-49e2-ba1d-66f18931d37d"
      },
      "source": [
        "data['day'] = data[data.columns[0:3]].apply(\n",
        "    lambda x: '-'.join(x.dropna().astype(str)),\n",
        "    axis=1)\n",
        "\n",
        "data=data.set_index(data['day'])\n",
        "data=data.drop(columns=['day'])\n",
        "\n",
        "data.head()"
      ],
      "execution_count": null,
      "outputs": [
        {
          "output_type": "execute_result",
          "data": {
            "text/html": [
              "<div>\n",
              "<style scoped>\n",
              "    .dataframe tbody tr th:only-of-type {\n",
              "        vertical-align: middle;\n",
              "    }\n",
              "\n",
              "    .dataframe tbody tr th {\n",
              "        vertical-align: top;\n",
              "    }\n",
              "\n",
              "    .dataframe thead th {\n",
              "        text-align: right;\n",
              "    }\n",
              "</style>\n",
              "<table border=\"1\" class=\"dataframe\">\n",
              "  <thead>\n",
              "    <tr style=\"text-align: right;\">\n",
              "      <th></th>\n",
              "      <th>Month</th>\n",
              "      <th>Date</th>\n",
              "      <th>Year</th>\n",
              "      <th>Temperature</th>\n",
              "      <th>temperature_C</th>\n",
              "    </tr>\n",
              "    <tr>\n",
              "      <th>day</th>\n",
              "      <th></th>\n",
              "      <th></th>\n",
              "      <th></th>\n",
              "      <th></th>\n",
              "      <th></th>\n",
              "    </tr>\n",
              "  </thead>\n",
              "  <tbody>\n",
              "    <tr>\n",
              "      <th>1-1-1995</th>\n",
              "      <td>1</td>\n",
              "      <td>1</td>\n",
              "      <td>1995</td>\n",
              "      <td>50.7</td>\n",
              "      <td>10.4</td>\n",
              "    </tr>\n",
              "    <tr>\n",
              "      <th>1-2-1995</th>\n",
              "      <td>1</td>\n",
              "      <td>2</td>\n",
              "      <td>1995</td>\n",
              "      <td>52.1</td>\n",
              "      <td>11.2</td>\n",
              "    </tr>\n",
              "    <tr>\n",
              "      <th>1-3-1995</th>\n",
              "      <td>1</td>\n",
              "      <td>3</td>\n",
              "      <td>1995</td>\n",
              "      <td>53.8</td>\n",
              "      <td>12.1</td>\n",
              "    </tr>\n",
              "    <tr>\n",
              "      <th>1-4-1995</th>\n",
              "      <td>1</td>\n",
              "      <td>4</td>\n",
              "      <td>1995</td>\n",
              "      <td>53.7</td>\n",
              "      <td>12.1</td>\n",
              "    </tr>\n",
              "    <tr>\n",
              "      <th>1-5-1995</th>\n",
              "      <td>1</td>\n",
              "      <td>5</td>\n",
              "      <td>1995</td>\n",
              "      <td>54.5</td>\n",
              "      <td>12.5</td>\n",
              "    </tr>\n",
              "  </tbody>\n",
              "</table>\n",
              "</div>"
            ],
            "text/plain": [
              "          Month  Date  Year  Temperature  temperature_C\n",
              "day                                                    \n",
              "1-1-1995      1     1  1995         50.7           10.4\n",
              "1-2-1995      1     2  1995         52.1           11.2\n",
              "1-3-1995      1     3  1995         53.8           12.1\n",
              "1-4-1995      1     4  1995         53.7           12.1\n",
              "1-5-1995      1     5  1995         54.5           12.5"
            ]
          },
          "metadata": {
            "tags": []
          },
          "execution_count": 8
        }
      ]
    },
    {
      "cell_type": "markdown",
      "metadata": {
        "id": "7u2FdZa2nYbq"
      },
      "source": [
        "As our training and test data set have some overlapping values, we slice the training datset such that it has the data from 1995-2019 (25 years)."
      ]
    },
    {
      "cell_type": "code",
      "metadata": {
        "id": "dpRr1C_HnphG"
      },
      "source": [
        "data=data.iloc[:-133,:]"
      ],
      "execution_count": null,
      "outputs": []
    },
    {
      "cell_type": "code",
      "metadata": {
        "id": "No-HZkSVnrSr"
      },
      "source": [
        "#Choosing the dependent (y) and independent variables (x)\n",
        "x=data.iloc[:,[0,1,2]]\n",
        "y=data.iloc[:,4]"
      ],
      "execution_count": null,
      "outputs": []
    },
    {
      "cell_type": "code",
      "metadata": {
        "id": "D-qAqlEVn6O6"
      },
      "source": [
        "x.head()"
      ],
      "execution_count": null,
      "outputs": []
    },
    {
      "cell_type": "code",
      "metadata": {
        "id": "c3Zd67rFn8VQ"
      },
      "source": [
        "y.head()"
      ],
      "execution_count": null,
      "outputs": []
    },
    {
      "cell_type": "markdown",
      "metadata": {
        "id": "UZTOM2MPoBKp"
      },
      "source": [
        "Now we split the training data set further into train and test for prediction purposes"
      ]
    },
    {
      "cell_type": "code",
      "metadata": {
        "colab": {
          "base_uri": "https://localhost:8080/"
        },
        "id": "e5dSNgABoIOt",
        "outputId": "72d95d93-df01-4b22-cfb0-fc9d2b979ae1"
      },
      "source": [
        "train_x, test_x, train_y, test_y = train_test_split(x,y,test_size=0.2,random_state=0)\n",
        "train_x.shape\n",
        "test_x.shape"
      ],
      "execution_count": null,
      "outputs": [
        {
          "output_type": "execute_result",
          "data": {
            "text/plain": [
              "(1827, 3)"
            ]
          },
          "metadata": {
            "tags": []
          },
          "execution_count": 11
        }
      ]
    },
    {
      "cell_type": "markdown",
      "metadata": {
        "id": "2XeiUkTWocNM"
      },
      "source": [
        "On trying different combinations of Regression models and hyperparamters, we recieve the following results on using Random Forest Regressor"
      ]
    },
    {
      "cell_type": "code",
      "metadata": {
        "colab": {
          "base_uri": "https://localhost:8080/"
        },
        "id": "07LbeWk-oqWC",
        "outputId": "ab89ceb2-2e45-4916-bf52-56be4230ecc2"
      },
      "source": [
        "#n_estimators can be 10,100,1000\n",
        "regressor = RandomForestRegressor(n_estimators = 100, random_state = 0)\n",
        "regressor.fit(train_x, train_y)\n"
      ],
      "execution_count": null,
      "outputs": [
        {
          "output_type": "execute_result",
          "data": {
            "text/plain": [
              "RandomForestRegressor(bootstrap=True, ccp_alpha=0.0, criterion='mse',\n",
              "                      max_depth=None, max_features='auto', max_leaf_nodes=None,\n",
              "                      max_samples=None, min_impurity_decrease=0.0,\n",
              "                      min_impurity_split=None, min_samples_leaf=1,\n",
              "                      min_samples_split=2, min_weight_fraction_leaf=0.0,\n",
              "                      n_estimators=100, n_jobs=None, oob_score=False,\n",
              "                      random_state=0, verbose=0, warm_start=False)"
            ]
          },
          "metadata": {
            "tags": []
          },
          "execution_count": 12
        }
      ]
    },
    {
      "cell_type": "code",
      "metadata": {
        "id": "wb2mBl67o3CY"
      },
      "source": [
        "#Predicting the results for test_x\n",
        "pred = regressor.predict(test_x)\n"
      ],
      "execution_count": null,
      "outputs": []
    },
    {
      "cell_type": "code",
      "metadata": {
        "colab": {
          "base_uri": "https://localhost:8080/"
        },
        "id": "vInm0kevo75B",
        "outputId": "a7d39ecf-8d82-4a0f-aace-87d4dd576d68"
      },
      "source": [
        "# Using r2_score and mean squared error for evaluation\n",
        "r2_score(test_y, pred)\n"
      ],
      "execution_count": null,
      "outputs": [
        {
          "output_type": "execute_result",
          "data": {
            "text/plain": [
              "0.9615380496069263"
            ]
          },
          "metadata": {
            "tags": []
          },
          "execution_count": 23
        }
      ]
    },
    {
      "cell_type": "code",
      "metadata": {
        "colab": {
          "base_uri": "https://localhost:8080/"
        },
        "id": "FVTPhPaxpFzQ",
        "outputId": "79511784-2b62-4699-b4bd-cdb4133dbef5"
      },
      "source": [
        "mean_squared_error(test_y,pred)"
      ],
      "execution_count": null,
      "outputs": [
        {
          "output_type": "execute_result",
          "data": {
            "text/plain": [
              "2.076526638204708"
            ]
          },
          "metadata": {
            "tags": []
          },
          "execution_count": 24
        }
      ]
    },
    {
      "cell_type": "markdown",
      "metadata": {
        "id": "xXNhxxC7pliw"
      },
      "source": [
        "## Predictions for 2020"
      ]
    },
    {
      "cell_type": "code",
      "metadata": {
        "id": "44TwYvERpqfx"
      },
      "source": [
        "y_pred = regressor.predict(test)\n",
        "y_pred=pd.DataFrame(y_pred)\n"
      ],
      "execution_count": null,
      "outputs": []
    },
    {
      "cell_type": "code",
      "metadata": {
        "id": "U671nIQApzBB"
      },
      "source": [
        "#Joining the predicted results with the test dataset \n",
        "test=pd.concat([test,y_pred],axis=1)\n",
        "\n",
        "#Changing the index to date\n",
        "test['day'] = test[test.columns[0:3]].apply(\n",
        "    lambda x: '-'.join(x.dropna().astype(str)),\n",
        "    axis=1\n",
        ")\n",
        "\n",
        "test=test.set_index(test['day'])\n",
        "test=test.drop(columns=['day'])"
      ],
      "execution_count": null,
      "outputs": []
    },
    {
      "cell_type": "code",
      "metadata": {
        "colab": {
          "base_uri": "https://localhost:8080/",
          "height": 235
        },
        "id": "ouwCLBhXqHZe",
        "outputId": "39ed983d-19a8-46ea-c53f-9d93b3916736"
      },
      "source": [
        "test.head()"
      ],
      "execution_count": null,
      "outputs": [
        {
          "output_type": "execute_result",
          "data": {
            "text/html": [
              "<div>\n",
              "<style scoped>\n",
              "    .dataframe tbody tr th:only-of-type {\n",
              "        vertical-align: middle;\n",
              "    }\n",
              "\n",
              "    .dataframe tbody tr th {\n",
              "        vertical-align: top;\n",
              "    }\n",
              "\n",
              "    .dataframe thead th {\n",
              "        text-align: right;\n",
              "    }\n",
              "</style>\n",
              "<table border=\"1\" class=\"dataframe\">\n",
              "  <thead>\n",
              "    <tr style=\"text-align: right;\">\n",
              "      <th></th>\n",
              "      <th>Month</th>\n",
              "      <th>Date</th>\n",
              "      <th>Year</th>\n",
              "      <th>0</th>\n",
              "    </tr>\n",
              "    <tr>\n",
              "      <th>day</th>\n",
              "      <th></th>\n",
              "      <th></th>\n",
              "      <th></th>\n",
              "      <th></th>\n",
              "    </tr>\n",
              "  </thead>\n",
              "  <tbody>\n",
              "    <tr>\n",
              "      <th>1-1-2020</th>\n",
              "      <td>1</td>\n",
              "      <td>1</td>\n",
              "      <td>2020</td>\n",
              "      <td>13.044</td>\n",
              "    </tr>\n",
              "    <tr>\n",
              "      <th>1-2-2020</th>\n",
              "      <td>1</td>\n",
              "      <td>2</td>\n",
              "      <td>2020</td>\n",
              "      <td>13.376</td>\n",
              "    </tr>\n",
              "    <tr>\n",
              "      <th>1-3-2020</th>\n",
              "      <td>1</td>\n",
              "      <td>3</td>\n",
              "      <td>2020</td>\n",
              "      <td>13.378</td>\n",
              "    </tr>\n",
              "    <tr>\n",
              "      <th>1-4-2020</th>\n",
              "      <td>1</td>\n",
              "      <td>4</td>\n",
              "      <td>2020</td>\n",
              "      <td>13.325</td>\n",
              "    </tr>\n",
              "    <tr>\n",
              "      <th>1-5-2020</th>\n",
              "      <td>1</td>\n",
              "      <td>5</td>\n",
              "      <td>2020</td>\n",
              "      <td>13.186</td>\n",
              "    </tr>\n",
              "  </tbody>\n",
              "</table>\n",
              "</div>"
            ],
            "text/plain": [
              "          Month  Date  Year       0\n",
              "day                                \n",
              "1-1-2020      1     1  2020  13.044\n",
              "1-2-2020      1     2  2020  13.376\n",
              "1-3-2020      1     3  2020  13.378\n",
              "1-4-2020      1     4  2020  13.325\n",
              "1-5-2020      1     5  2020  13.186"
            ]
          },
          "metadata": {
            "tags": []
          },
          "execution_count": 28
        }
      ]
    },
    {
      "cell_type": "markdown",
      "metadata": {
        "id": "dz7o-g3gqMcE"
      },
      "source": [
        "Column 0 shows the predicted temperature values"
      ]
    },
    {
      "cell_type": "markdown",
      "metadata": {
        "id": "6KaEzXHNKLKi"
      },
      "source": [
        "To analyse the accuracy of predictions we compare the Predicted v/s actual temperature values for 1-1-20 to 12-05-20"
      ]
    },
    {
      "cell_type": "code",
      "metadata": {
        "id": "5ZsDtPtIJvI1"
      },
      "source": [
        "#Formatting the actual and predicted values\n",
        "actual=pd.read_csv('/content/drive/MyDrive/DATA.csv').iloc[-133:,:]\n",
        "predicted=test.iloc[0:133,3]\n",
        "predicted=predicted.to_frame()\n",
        "\n",
        "actual['day'] = actual[actual.columns[0:3]].apply(\n",
        "    lambda x: '-'.join(x.dropna().astype(str)),\n",
        "    axis=1\n",
        ")\n",
        "\n",
        "actual=actual.set_index(actual['day'])\n",
        "actual=actual.drop(columns=['day'])\n",
        "actual[\"temperature_C\"] = fahr_to_celsius(actual[\"Temperature\"])\n",
        "actual[\"temperature_C\"]=round(actual[\"temperature_C\"],1)"
      ],
      "execution_count": null,
      "outputs": []
    },
    {
      "cell_type": "code",
      "metadata": {
        "colab": {
          "base_uri": "https://localhost:8080/",
          "height": 279
        },
        "id": "rZ4TLx9iKWpU",
        "outputId": "4b7acbfd-28f5-4586-9619-192ebf04a65b"
      },
      "source": [
        "#Plotting using line plot\n",
        "a=sns.lineplot(x=actual.index,y=actual['temperature_C'],color='red') \n",
        "b=sns.lineplot(x=predicted.index,y=predicted[0]) "
      ],
      "execution_count": null,
      "outputs": [
        {
          "output_type": "display_data",
          "data": {
            "image/png": "[encoded data removed]",
            "text/plain": [
              "<Figure size 432x288 with 1 Axes>"
            ]
          },
          "metadata": {
            "tags": [],
            "needs_background": "light"
          }
        }
      ]
    },
    {
      "cell_type": "markdown",
      "metadata": {
        "id": "rHpX_RUbL4ha"
      },
      "source": [
        "In the above graph, the red line shows the actual values and blue depicts the predicted ones"
      ]
    },
    {
      "cell_type": "markdown",
      "metadata": {
        "id": "rEsMl4CAMIhV"
      },
      "source": [
        "Plotting the yearly average temperature and comparing it with predicted value of 2020 and mean of last 25 years"
      ]
    },
    {
      "cell_type": "code",
      "metadata": {
        "colab": {
          "base_uri": "https://localhost:8080/",
          "height": 235
        },
        "id": "nqvpyT1FMms-",
        "outputId": "0269dea1-109e-4136-944d-65b810982642"
      },
      "source": [
        "#Groupby data by year\n",
        "year=data.groupby('Year').mean().iloc[:,-1]\n",
        "year=year.to_frame()\n",
        "year.head()"
      ],
      "execution_count": null,
      "outputs": [
        {
          "output_type": "execute_result",
          "data": {
            "text/html": [
              "<div>\n",
              "<style scoped>\n",
              "    .dataframe tbody tr th:only-of-type {\n",
              "        vertical-align: middle;\n",
              "    }\n",
              "\n",
              "    .dataframe tbody tr th {\n",
              "        vertical-align: top;\n",
              "    }\n",
              "\n",
              "    .dataframe thead th {\n",
              "        text-align: right;\n",
              "    }\n",
              "</style>\n",
              "<table border=\"1\" class=\"dataframe\">\n",
              "  <thead>\n",
              "    <tr style=\"text-align: right;\">\n",
              "      <th></th>\n",
              "      <th>temperature_C</th>\n",
              "    </tr>\n",
              "    <tr>\n",
              "      <th>Year</th>\n",
              "      <th></th>\n",
              "    </tr>\n",
              "  </thead>\n",
              "  <tbody>\n",
              "    <tr>\n",
              "      <th>1995</th>\n",
              "      <td>24.967671</td>\n",
              "    </tr>\n",
              "    <tr>\n",
              "      <th>1996</th>\n",
              "      <td>24.306557</td>\n",
              "    </tr>\n",
              "    <tr>\n",
              "      <th>1997</th>\n",
              "      <td>23.586849</td>\n",
              "    </tr>\n",
              "    <tr>\n",
              "      <th>1998</th>\n",
              "      <td>24.569589</td>\n",
              "    </tr>\n",
              "    <tr>\n",
              "      <th>1999</th>\n",
              "      <td>24.978630</td>\n",
              "    </tr>\n",
              "  </tbody>\n",
              "</table>\n",
              "</div>"
            ],
            "text/plain": [
              "      temperature_C\n",
              "Year               \n",
              "1995      24.967671\n",
              "1996      24.306557\n",
              "1997      23.586849\n",
              "1998      24.569589\n",
              "1999      24.978630"
            ]
          },
          "metadata": {
            "tags": []
          },
          "execution_count": 22
        }
      ]
    },
    {
      "cell_type": "code",
      "metadata": {
        "colab": {
          "base_uri": "https://localhost:8080/",
          "height": 285
        },
        "id": "Ofg7KHW_Mxtr",
        "outputId": "9b4114f2-a817-4d56-cc40-4e09cdf6441e"
      },
      "source": [
        "plt.plot(year.index,year['temperature_C'],alpha=0.4,\n",
        "         color='red',linestyle='dashed',linewidth=2,\n",
        "         marker='o',markersize=5,markerfacecolor='blue',\n",
        "         markeredgecolor='blue')"
      ],
      "execution_count": null,
      "outputs": [
        {
          "output_type": "execute_result",
          "data": {
            "text/plain": [
              "[<matplotlib.lines.Line2D at 0x7f50d35f72b0>]"
            ]
          },
          "metadata": {
            "tags": []
          },
          "execution_count": 23
        },
        {
          "output_type": "display_data",
          "data": {
            "image/png": "[encoded data removed]",
            "text/plain": [
              "<Figure size 432x288 with 1 Axes>"
            ]
          },
          "metadata": {
            "tags": [],
            "needs_background": "light"
          }
        }
      ]
    },
    {
      "cell_type": "code",
      "metadata": {
        "colab": {
          "base_uri": "https://localhost:8080/",
          "height": 299
        },
        "id": "-gydP6PkNL1B",
        "outputId": "5d7be6e3-a2da-4868-c7a1-5399042a279d"
      },
      "source": [
        "#Comparison\n",
        "graph=sns.lineplot(x=year.index,y=year['temperature_C'],marker='o') \n",
        "plt.scatter(2020,y_pred[0].mean(),color='red') #2020 predicted\n",
        "graph.axhline(year['temperature_C'].mean())"
      ],
      "execution_count": null,
      "outputs": [
        {
          "output_type": "execute_result",
          "data": {
            "text/plain": [
              "<matplotlib.lines.Line2D at 0x7f50d3640160>"
            ]
          },
          "metadata": {
            "tags": []
          },
          "execution_count": 24
        },
        {
          "output_type": "display_data",
          "data": {
            "image/png": "[encoded data removed]",
            "text/plain": [
              "<Figure size 432x288 with 1 Axes>"
            ]
          },
          "metadata": {
            "tags": [],
            "needs_background": "light"
          }
        }
      ]
    },
    {
      "cell_type": "markdown",
      "metadata": {
        "id": "mxu1hTHXNXGx"
      },
      "source": [
        "The lines shows the average temperature of 1995-2020 and red point marks the predicted value of average temperature of 2020"
      ]
    },
    {
      "cell_type": "markdown",
      "metadata": {
        "id": "Pp2BSMILPrZZ"
      },
      "source": [
        "Plotting the trendline "
      ]
    },
    {
      "cell_type": "code",
      "metadata": {
        "id": "ktueUDZiR4Xk"
      },
      "source": [
        "z = np.polyfit(y=year['temperature_C'],x=year.index,deg=2)\n",
        "\n",
        "p = np.poly1d(z)\n",
        "plt.scatter(x=year['temperature_C'],y=year.index)\n",
        "plt.plot(x,p(x),\"r--\")"
      ],
      "execution_count": null,
      "outputs": []
    },
    {
      "cell_type": "markdown",
      "metadata": {
        "id": "6lFt5DTqRnmy"
      },
      "source": [
        "![a.png](data:image/png;base64,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)"
      ]
    },
    {
      "cell_type": "markdown",
      "metadata": {
        "id": "ovYyZFZINmcl"
      },
      "source": [
        "Using a box plot to show the variation in monthly temperature "
      ]
    },
    {
      "cell_type": "code",
      "metadata": {
        "colab": {
          "base_uri": "https://localhost:8080/",
          "height": 235
        },
        "id": "nv1YSuobPCvq",
        "outputId": "0955018b-3a74-4f88-e816-c81c77dc93aa"
      },
      "source": [
        "#Grouping data for every year month wise\n",
        "month=data.groupby(['Year','Month']).mean().iloc[:,-1]\n",
        "month=month.to_frame()\n",
        "\n",
        "month.reset_index(level=1, inplace=True)\n",
        "\n",
        "month.head()"
      ],
      "execution_count": null,
      "outputs": [
        {
          "output_type": "execute_result",
          "data": {
            "text/html": [
              "<div>\n",
              "<style scoped>\n",
              "    .dataframe tbody tr th:only-of-type {\n",
              "        vertical-align: middle;\n",
              "    }\n",
              "\n",
              "    .dataframe tbody tr th {\n",
              "        vertical-align: top;\n",
              "    }\n",
              "\n",
              "    .dataframe thead th {\n",
              "        text-align: right;\n",
              "    }\n",
              "</style>\n",
              "<table border=\"1\" class=\"dataframe\">\n",
              "  <thead>\n",
              "    <tr style=\"text-align: right;\">\n",
              "      <th></th>\n",
              "      <th>Month</th>\n",
              "      <th>temperature_C</th>\n",
              "    </tr>\n",
              "    <tr>\n",
              "      <th>Year</th>\n",
              "      <th></th>\n",
              "      <th></th>\n",
              "    </tr>\n",
              "  </thead>\n",
              "  <tbody>\n",
              "    <tr>\n",
              "      <th>1995</th>\n",
              "      <td>1</td>\n",
              "      <td>13.087097</td>\n",
              "    </tr>\n",
              "    <tr>\n",
              "      <th>1995</th>\n",
              "      <td>2</td>\n",
              "      <td>16.867857</td>\n",
              "    </tr>\n",
              "    <tr>\n",
              "      <th>1995</th>\n",
              "      <td>3</td>\n",
              "      <td>21.448387</td>\n",
              "    </tr>\n",
              "    <tr>\n",
              "      <th>1995</th>\n",
              "      <td>4</td>\n",
              "      <td>28.393333</td>\n",
              "    </tr>\n",
              "    <tr>\n",
              "      <th>1995</th>\n",
              "      <td>5</td>\n",
              "      <td>33.993548</td>\n",
              "    </tr>\n",
              "  </tbody>\n",
              "</table>\n",
              "</div>"
            ],
            "text/plain": [
              "      Month  temperature_C\n",
              "Year                      \n",
              "1995      1      13.087097\n",
              "1995      2      16.867857\n",
              "1995      3      21.448387\n",
              "1995      4      28.393333\n",
              "1995      5      33.993548"
            ]
          },
          "metadata": {
            "tags": []
          },
          "execution_count": 25
        }
      ]
    },
    {
      "cell_type": "code",
      "metadata": {
        "colab": {
          "base_uri": "https://localhost:8080/",
          "height": 296
        },
        "id": "XGziw8hOPQ_n",
        "outputId": "b7883d62-52b1-42f4-848c-48b3f9663bd6"
      },
      "source": [
        "sns.boxplot(x=month['Month'], y=month['temperature_C'])"
      ],
      "execution_count": null,
      "outputs": [
        {
          "output_type": "execute_result",
          "data": {
            "text/plain": [
              "<matplotlib.axes._subplots.AxesSubplot at 0x7f50d35addd8>"
            ]
          },
          "metadata": {
            "tags": []
          },
          "execution_count": 26
        },
        {
          "output_type": "display_data",
          "data": {
            "image/png": "[encoded data removed]",
            "text/plain": [
              "<Figure size 432x288 with 1 Axes>"
            ]
          },
          "metadata": {
            "tags": [],
            "needs_background": "light"
          }
        }
      ]
    },
    {
      "cell_type": "markdown",
      "metadata": {
        "id": "h5zB1BypPX9A"
      },
      "source": [
        "Plotting frequency of temperature using Histogram"
      ]
    },
    {
      "cell_type": "code",
      "metadata": {
        "colab": {
          "base_uri": "https://localhost:8080/",
          "height": 335
        },
        "id": "EozRE1nbPeK4",
        "outputId": "0e954b84-f025-46de-e701-8dec244e3a26"
      },
      "source": [
        "sns.set_color_codes()\n",
        "ax = sns.distplot(data['temperature_C'],color='r')"
      ],
      "execution_count": null,
      "outputs": [
        {
          "output_type": "stream",
          "text": [
            "/usr/local/lib/python3.6/dist-packages/seaborn/distributions.py:2551: FutureWarning: `distplot` is a deprecated function and will be removed in a future version. Please adapt your code to use either `displot` (a figure-level function with similar flexibility) or `histplot` (an axes-level function for histograms).\n",
            "  warnings.warn(msg, FutureWarning)\n"
          ],
          "name": "stderr"
        },
        {
          "output_type": "display_data",
          "data": {
            "image/png": "[encoded data removed]",
            "text/plain": [
              "<Figure size 432x288 with 1 Axes>"
            ]
          },
          "metadata": {
            "tags": [],
            "needs_background": "light"
          }
        }
      ]
    },
    {
      "cell_type": "markdown",
      "metadata": {
        "id": "wS1GHXecSC-s"
      },
      "source": [
        "Plotting the trend of 4 seasons in Delhi"
      ]
    },
    {
      "cell_type": "code",
      "metadata": {
        "colab": {
          "base_uri": "https://localhost:8080/",
          "height": 350
        },
        "id": "MQ66GboyPnj8",
        "outputId": "b970ec02-7ea8-48e6-bf02-d65acf19e49d"
      },
      "source": [
        "month=month.loc[month['Month'].isin(['3','6','9','12'])]\n",
        "sns.lineplot(month.index, 'temperature_C', ci=None, \n",
        "             hue='Month', data=month, marker='o')"
      ],
      "execution_count": null,
      "outputs": [
        {
          "output_type": "stream",
          "text": [
            "/usr/local/lib/python3.6/dist-packages/seaborn/_decorators.py:43: FutureWarning: Pass the following variables as keyword args: x, y. From version 0.12, the only valid positional argument will be `data`, and passing other arguments without an explicit keyword will result in an error or misinterpretation.\n",
            "  FutureWarning\n"
          ],
          "name": "stderr"
        },
        {
          "output_type": "execute_result",
          "data": {
            "text/plain": [
              "<matplotlib.axes._subplots.AxesSubplot at 0x7f50d02eca20>"
            ]
          },
          "metadata": {
            "tags": []
          },
          "execution_count": 42
        },
        {
          "output_type": "display_data",
          "data": {
            "image/png": "[encoded data removed]",
            "text/plain": [
              "<Figure size 432x288 with 1 Axes>"
            ]
          },
          "metadata": {
            "tags": [],
            "needs_background": "light"
          }
        }
      ]
    }
  ]
}